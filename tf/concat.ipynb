{
 "cells": [
  {
   "cell_type": "code",
   "execution_count": 1,
   "metadata": {},
   "outputs": [],
   "source": [
    "import tensorflow as tf"
   ]
  },
  {
   "cell_type": "markdown",
   "metadata": {},
   "source": [
    "## for tensor"
   ]
  },
  {
   "cell_type": "code",
   "execution_count": 2,
   "metadata": {},
   "outputs": [],
   "source": [
    "a = tf.constant([[[1, 2, 3], [4, 5, 6]], [[7, 8, 9], [10, 11, 12]]], dtype = \"float32\")\n",
    "b = tf.constant([[[.1, .2, .3], [.4, .5, .6]], [[.7, .8, .9], [.10, .11, .12]]], dtype = \"float32\")"
   ]
  },
  {
   "cell_type": "code",
   "execution_count": 4,
   "metadata": {},
   "outputs": [
    {
     "name": "stdout",
     "output_type": "stream",
     "text": [
      "a = \n",
      "[[[ 1.  2.  3.]\n",
      "  [ 4.  5.  6.]]\n",
      "\n",
      " [[ 7.  8.  9.]\n",
      "  [10. 11. 12.]]]\n",
      "---------------------------------------------------\n",
      "b = \n",
      "[[[0.1  0.2  0.3 ]\n",
      "  [0.4  0.5  0.6 ]]\n",
      "\n",
      " [[0.7  0.8  0.9 ]\n",
      "  [0.1  0.11 0.12]]]\n",
      "---------------------------------------------------\n",
      "tf.concat([a, b], 0) = \n",
      "[[[ 1.    2.    3.  ]\n",
      "  [ 4.    5.    6.  ]]\n",
      "\n",
      " [[ 7.    8.    9.  ]\n",
      "  [10.   11.   12.  ]]\n",
      "\n",
      " [[ 0.1   0.2   0.3 ]\n",
      "  [ 0.4   0.5   0.6 ]]\n",
      "\n",
      " [[ 0.7   0.8   0.9 ]\n",
      "  [ 0.1   0.11  0.12]]]\n",
      "---------------------------------------------------\n",
      "tf.concat([a, b], 1) = \n",
      "[[[ 1.    2.    3.  ]\n",
      "  [ 4.    5.    6.  ]\n",
      "  [ 0.1   0.2   0.3 ]\n",
      "  [ 0.4   0.5   0.6 ]]\n",
      "\n",
      " [[ 7.    8.    9.  ]\n",
      "  [10.   11.   12.  ]\n",
      "  [ 0.7   0.8   0.9 ]\n",
      "  [ 0.1   0.11  0.12]]]\n",
      "---------------------------------------------------\n",
      "tf.concat([a, b], 2) = \n",
      "[[[ 1.    2.    3.    0.1   0.2   0.3 ]\n",
      "  [ 4.    5.    6.    0.4   0.5   0.6 ]]\n",
      "\n",
      " [[ 7.    8.    9.    0.7   0.8   0.9 ]\n",
      "  [10.   11.   12.    0.1   0.11  0.12]]]\n"
     ]
    }
   ],
   "source": [
    "with tf.Session() as sess:\n",
    "    print 'a = '\n",
    "    print sess.run(a)\n",
    "    print '---------------------------------------------------'\n",
    "    print 'b = '\n",
    "    print sess.run(b)\n",
    "    print '---------------------------------------------------'\n",
    "    print 'tf.concat([a, b], 0) = '\n",
    "    print sess.run(tf.concat([a, b], 0))\n",
    "    print '---------------------------------------------------'\n",
    "    print 'tf.concat([a, b], 1) = '\n",
    "    print sess.run(tf.concat([a, b], 1))\n",
    "    print '---------------------------------------------------'\n",
    "    print 'tf.concat([a, b], 2) = '\n",
    "    print sess.run(tf.concat([a, b], 2))"
   ]
  },
  {
   "cell_type": "markdown",
   "metadata": {},
   "source": [
    "## for  matrix"
   ]
  },
  {
   "cell_type": "code",
   "execution_count": 5,
   "metadata": {},
   "outputs": [],
   "source": [
    "a = tf.constant([[1, 2, 3], [4, 5, 6]], dtype = \"float32\")\n",
    "b = tf.constant([[.1, .2, .3], [.4, .5, .6]], dtype = \"float32\")"
   ]
  },
  {
   "cell_type": "code",
   "execution_count": 6,
   "metadata": {},
   "outputs": [
    {
     "name": "stdout",
     "output_type": "stream",
     "text": [
      "a = \n",
      "[[1. 2. 3.]\n",
      " [4. 5. 6.]]\n",
      "---------------------------------------------------\n",
      "b = \n",
      "[[0.1 0.2 0.3]\n",
      " [0.4 0.5 0.6]]\n",
      "---------------------------------------------------\n",
      "tf.concat([a, b], 0) = \n",
      "[[1.  2.  3. ]\n",
      " [4.  5.  6. ]\n",
      " [0.1 0.2 0.3]\n",
      " [0.4 0.5 0.6]]\n",
      "---------------------------------------------------\n",
      "tf.concat([a, b], 1) = \n",
      "[[1.  2.  3.  0.1 0.2 0.3]\n",
      " [4.  5.  6.  0.4 0.5 0.6]]\n"
     ]
    }
   ],
   "source": [
    "with tf.Session() as sess:\n",
    "    print 'a = '\n",
    "    print sess.run(a)\n",
    "    print '---------------------------------------------------'\n",
    "    print 'b = '\n",
    "    print sess.run(b)\n",
    "    print '---------------------------------------------------'\n",
    "    print 'tf.concat([a, b], 0) = '\n",
    "    print sess.run(tf.concat([a, b], 0))\n",
    "    print '---------------------------------------------------'\n",
    "    print 'tf.concat([a, b], 1) = '\n",
    "    print sess.run(tf.concat([a, b], 1))"
   ]
  }
 ],
 "metadata": {
  "anaconda-cloud": {},
  "kernelspec": {
   "display_name": "kernelForTF",
   "language": "python",
   "name": "kernelfortf"
  },
  "language_info": {
   "codemirror_mode": {
    "name": "ipython",
    "version": 2
   },
   "file_extension": ".py",
   "mimetype": "text/x-python",
   "name": "python",
   "nbconvert_exporter": "python",
   "pygments_lexer": "ipython2",
   "version": "2.7.12"
  }
 },
 "nbformat": 4,
 "nbformat_minor": 1
}
