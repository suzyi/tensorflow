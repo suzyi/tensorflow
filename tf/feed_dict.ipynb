{
 "cells": [
  {
   "cell_type": "code",
   "execution_count": 1,
   "metadata": {},
   "outputs": [
    {
     "data": {
      "text/plain": [
       "'\\ntf.placeholder(dtype, shape=none, name=none)\\nBy default, shape=none represents a univariate variable. shape=[None, 3], gives a matrix with elements are variables,\\nand it has size of 3 columns but indetermined rows.\\n'"
      ]
     },
     "execution_count": 1,
     "metadata": {},
     "output_type": "execute_result"
    }
   ],
   "source": [
    "'''\n",
    "tf.placeholder(dtype, shape=none, name=none)\n",
    "By default, shape=none represents a univariate variable. shape=[None, 3], gives a matrix with elements are variables,\n",
    "and it has size of 3 columns but indetermined rows.\n",
    "'''"
   ]
  },
  {
   "cell_type": "code",
   "execution_count": 2,
   "metadata": {},
   "outputs": [],
   "source": [
    "import tensorflow as tf\n",
    "import numpy as np"
   ]
  },
  {
   "cell_type": "code",
   "execution_count": 3,
   "metadata": {},
   "outputs": [
    {
     "name": "stdout",
     "output_type": "stream",
     "text": [
      "[[0.705696   0.2852346  0.25202116]\n",
      " [0.20831868 0.5394417  0.2282931 ]\n",
      " [0.2947299  0.3261963  0.6213082 ]]\n"
     ]
    }
   ],
   "source": [
    "x = tf.placeholder(tf.float32, shape=(3, 3))\n",
    "y = tf.matmul(x, x)\n",
    "with tf.Session() as sess:\n",
    "    rand_array = np.random.rand(3, 3)\n",
    "    print(sess.run(y, feed_dict={x: rand_array}))"
   ]
  },
  {
   "cell_type": "code",
   "execution_count": null,
   "metadata": {},
   "outputs": [],
   "source": []
  }
 ],
 "metadata": {
  "kernelspec": {
   "display_name": "kernelForTF",
   "language": "python",
   "name": "kernelfortf"
  },
  "language_info": {
   "codemirror_mode": {
    "name": "ipython",
    "version": 2
   },
   "file_extension": ".py",
   "mimetype": "text/x-python",
   "name": "python",
   "nbconvert_exporter": "python",
   "pygments_lexer": "ipython2",
   "version": "2.7.12"
  }
 },
 "nbformat": 4,
 "nbformat_minor": 2
}
