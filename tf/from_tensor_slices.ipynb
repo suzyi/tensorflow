{
 "cells": [
  {
   "cell_type": "markdown",
   "metadata": {},
   "source": [
    "# Warning: you can't run this file, it's just an understanding example!"
   ]
  },
  {
   "cell_type": "code",
   "execution_count": 1,
   "metadata": {},
   "outputs": [],
   "source": [
    "train_imgs = tf.constant(['train/img1.png',\n",
    "                          'train/img2.png',\n",
    "                          'train/img3.png',\n",
    "                          'train/img4.png',\n",
    "                          'train/img5.png',\n",
    "                          'train/img6.png'])\n",
    "train_labels = tf.constant([0, 0, 0, 1, 1, 1])\n",
    "tr_data = Dataset.from_tensor_slices((train_imgs, train_labels))"
   ]
  },
  {
   "cell_type": "markdown",
   "metadata": {},
   "source": [
    "输出： (b'train/img1.png', 0) (b'train/img2.png', 0) (b'train/img3.png', 0) (b'train/img4.png', 1) (b'train/img5.png', 1) (b'train/img6.png', 1)"
   ]
  }
 ],
 "metadata": {
  "anaconda-cloud": {},
  "kernelspec": {
   "display_name": "kernelForTF",
   "language": "python",
   "name": "kernelfortf"
  },
  "language_info": {
   "codemirror_mode": {
    "name": "ipython",
    "version": 2
   },
   "file_extension": ".py",
   "mimetype": "text/x-python",
   "name": "python",
   "nbconvert_exporter": "python",
   "pygments_lexer": "ipython2",
   "version": "2.7.12"
  }
 },
 "nbformat": 4,
 "nbformat_minor": 1
}
