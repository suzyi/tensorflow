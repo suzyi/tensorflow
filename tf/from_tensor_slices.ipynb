{
 "cells": [
  {
   "cell_type": "code",
   "execution_count": 1,
   "metadata": {},
   "outputs": [],
   "source": [
    "import tensorflow as tf\n",
    "import numpy as np"
   ]
  },
  {
   "cell_type": "code",
   "execution_count": 2,
   "metadata": {},
   "outputs": [],
   "source": [
    "batch_size = 2"
   ]
  },
  {
   "cell_type": "code",
   "execution_count": 3,
   "metadata": {},
   "outputs": [],
   "source": [
    "train_features=np.array([[3.0, 0.0], [1.0, 2.0], [0.0, 0.0]], dtype=\"float32\")\n",
    "train_labels=np.array([[0], [0], [1]], dtype=\"float32\")\n",
    "dataset = tf.data.Dataset.from_tensor_slices((train_features, train_labels))\n",
    "dataset = dataset.batch(batch_size)"
   ]
  },
  {
   "cell_type": "code",
   "execution_count": 4,
   "metadata": {},
   "outputs": [],
   "source": [
    "dataset = tf.data.Dataset.from_tensor_slices((train_features, train_labels))\n",
    "dataset = dataset.batch(batch_size)\n",
    "iterator = dataset.make_initializable_iterator()\n",
    "batch_data = iterator.get_next()"
   ]
  },
  {
   "cell_type": "code",
   "execution_count": 6,
   "metadata": {},
   "outputs": [
    {
     "name": "stdout",
     "output_type": "stream",
     "text": [
      "(array([[3., 0.],\n",
      "       [1., 2.]], dtype=float32), array([[0.],\n",
      "       [0.]], dtype=float32))\n",
      "(array([[0., 0.]], dtype=float32), array([[1.]], dtype=float32))\n"
     ]
    }
   ],
   "source": [
    "with tf.Session() as sess:\n",
    "    sess.run(iterator.initializer)\n",
    "    for i in range(2):\n",
    "        print(sess.run(batch_data))"
   ]
  },
  {
   "cell_type": "code",
   "execution_count": 7,
   "metadata": {},
   "outputs": [
    {
     "name": "stdout",
     "output_type": "stream",
     "text": [
      "batch_data= (array([[3., 0.],\n",
      "       [1., 2.]], dtype=float32), array([[0.],\n",
      "       [0.]], dtype=float32))\n",
      "batch_data[0]= [[3. 0.]\n",
      " [1. 2.]] <type 'numpy.ndarray'>\n",
      "batch_data[0][0]= [3. 0.]\n",
      "batch_data[0][1]= [1. 2.]\n",
      "batch_data[1]= [[0.]\n",
      " [0.]]\n",
      "batch_data[1][0]= [0.]\n",
      "batch_data[1][1]= [0.]\n"
     ]
    }
   ],
   "source": [
    "with tf.Session() as sess:\n",
    "    sess.run(iterator.initializer)\n",
    "    temp=sess.run(batch_data)\n",
    "print 'batch_data=',temp\n",
    "print 'batch_data[0]=',temp[0],type(temp[0])\n",
    "print 'batch_data[0][0]=',temp[0][0]\n",
    "print 'batch_data[0][1]=',temp[0][1]\n",
    "print 'batch_data[1]=',temp[1]\n",
    "print 'batch_data[1][0]=',temp[1][0]\n",
    "print 'batch_data[1][1]=',temp[1][1]"
   ]
  }
 ],
 "metadata": {
  "anaconda-cloud": {},
  "kernelspec": {
   "display_name": "kernelForTF",
   "language": "python",
   "name": "kernelfortf"
  },
  "language_info": {
   "codemirror_mode": {
    "name": "ipython",
    "version": 2
   },
   "file_extension": ".py",
   "mimetype": "text/x-python",
   "name": "python",
   "nbconvert_exporter": "python",
   "pygments_lexer": "ipython2",
   "version": "2.7.12"
  }
 },
 "nbformat": 4,
 "nbformat_minor": 1
}
