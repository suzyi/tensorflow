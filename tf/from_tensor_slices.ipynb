{
 "cells": [
  {
   "cell_type": "code",
   "execution_count": 1,
   "metadata": {},
   "outputs": [],
   "source": [
    "import tensorflow as tf\n",
    "import numpy as np"
   ]
  },
  {
   "cell_type": "code",
   "execution_count": 2,
   "metadata": {},
   "outputs": [],
   "source": [
    "x = np.random.sample((12, 2))\n",
    "y = np.random.sample((12, 1))\n",
    "dataset = tf.data.Dataset.from_tensor_slices((x, y))\n",
    "# dataset = dataset.apply(tf.contrib.data.batch_and_drop_remainder(2))\n",
    "dataset = dataset.batch(3)"
   ]
  },
  {
   "cell_type": "code",
   "execution_count": 3,
   "metadata": {},
   "outputs": [
    {
     "name": "stdout",
     "output_type": "stream",
     "text": [
      "[[0.66208996 0.04292221]\n",
      " [0.40337062 0.23407214]\n",
      " [0.43132371 0.20497535]\n",
      " [0.818834   0.306416  ]\n",
      " [0.72430116 0.86123285]\n",
      " [0.65117373 0.02559928]\n",
      " [0.00450653 0.33346128]\n",
      " [0.89535385 0.91746591]\n",
      " [0.47134211 0.95232249]\n",
      " [0.32237978 0.82316076]\n",
      " [0.12249933 0.58686224]\n",
      " [0.87559846 0.98549353]]\n",
      "[[0.13003201]\n",
      " [0.22791615]\n",
      " [0.03040132]\n",
      " [0.55030984]\n",
      " [0.1645152 ]\n",
      " [0.40598396]\n",
      " [0.91266362]\n",
      " [0.59463914]\n",
      " [0.26064259]\n",
      " [0.20728853]\n",
      " [0.98810327]\n",
      " [0.1691056 ]]\n"
     ]
    }
   ],
   "source": [
    "print x\n",
    "print y"
   ]
  },
  {
   "cell_type": "code",
   "execution_count": 4,
   "metadata": {},
   "outputs": [
    {
     "name": "stdout",
     "output_type": "stream",
     "text": [
      "(array([[0.66208996, 0.04292221],\n",
      "       [0.40337062, 0.23407214],\n",
      "       [0.43132371, 0.20497535]]), array([[0.13003201],\n",
      "       [0.22791615],\n",
      "       [0.03040132]]))\n",
      "(array([[0.818834  , 0.306416  ],\n",
      "       [0.72430116, 0.86123285],\n",
      "       [0.65117373, 0.02559928]]), array([[0.55030984],\n",
      "       [0.1645152 ],\n",
      "       [0.40598396]]))\n",
      "(array([[0.00450653, 0.33346128],\n",
      "       [0.89535385, 0.91746591],\n",
      "       [0.47134211, 0.95232249]]), array([[0.91266362],\n",
      "       [0.59463914],\n",
      "       [0.26064259]]))\n",
      "(array([[0.32237978, 0.82316076],\n",
      "       [0.12249933, 0.58686224],\n",
      "       [0.87559846, 0.98549353]]), array([[0.20728853],\n",
      "       [0.98810327],\n",
      "       [0.1691056 ]]))\n"
     ]
    }
   ],
   "source": [
    "# dataset = dataset.repeat(2)\n",
    "iterator = dataset.make_initializable_iterator()\n",
    "el = iterator.get_next()\n",
    "with tf.Session() as sess:\n",
    "    sess.run(iterator.initializer)\n",
    "    for i in range(4):\n",
    "        print(sess.run(el))"
   ]
  }
 ],
 "metadata": {
  "anaconda-cloud": {},
  "kernelspec": {
   "display_name": "kernelForTF",
   "language": "python",
   "name": "kernelfortf"
  },
  "language_info": {
   "codemirror_mode": {
    "name": "ipython",
    "version": 2
   },
   "file_extension": ".py",
   "mimetype": "text/x-python",
   "name": "python",
   "nbconvert_exporter": "python",
   "pygments_lexer": "ipython2",
   "version": "2.7.12"
  }
 },
 "nbformat": 4,
 "nbformat_minor": 1
}
