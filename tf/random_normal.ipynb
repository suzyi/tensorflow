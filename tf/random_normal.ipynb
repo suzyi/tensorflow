{
 "cells": [
  {
   "cell_type": "code",
   "execution_count": 1,
   "metadata": {},
   "outputs": [],
   "source": [
    "# written by gery\n",
    "# Mar 20, 2018\n",
    "# usage of seed\n",
    "import tensorflow as tf"
   ]
  },
  {
   "cell_type": "code",
   "execution_count": 2,
   "metadata": {},
   "outputs": [
    {
     "name": "stdout",
     "output_type": "stream",
     "text": [
      "[[ 1.9220369  -0.9028905  -0.37554395]\n",
      " [-1.3767949  -0.607995    1.0616063 ]]\n",
      "[[-0.7868946  -0.7193138  -0.8043062 ]\n",
      " [ 0.40985426 -0.68113154  2.017941  ]]\n",
      "[[-0.2757578  -1.5673585  -0.11042685]\n",
      " [ 0.73011726 -0.83859825 -0.454174  ]]\n"
     ]
    }
   ],
   "source": [
    "x=tf.random_normal([2,3], seed=2018)\n",
    "with tf.Session() as sess:\n",
    "    print sess.run(x)\n",
    "    print sess.run(x)\n",
    "    print sess.run(x)"
   ]
  },
  {
   "cell_type": "code",
   "execution_count": 3,
   "metadata": {},
   "outputs": [
    {
     "name": "stdout",
     "output_type": "stream",
     "text": [
      "[[-0.33390483  0.41900244  0.2365525 ]\n",
      " [ 0.77084    -0.2895062  -0.5075657 ]]\n",
      "[[ 1.0842199   0.41060048 -0.56223303]\n",
      " [ 0.21299118 -0.12898405  0.28654882]]\n",
      "[[ 2.4757357  -0.28997052 -0.9092855 ]\n",
      " [ 0.21699283  0.39220488  1.2969818 ]]\n"
     ]
    }
   ],
   "source": [
    "x=tf.random_normal([2,3], seed=53)\n",
    "with tf.Session() as sess:\n",
    "    print sess.run(x)\n",
    "    print sess.run(x)\n",
    "    print sess.run(x)"
   ]
  },
  {
   "cell_type": "code",
   "execution_count": 4,
   "metadata": {},
   "outputs": [
    {
     "name": "stdout",
     "output_type": "stream",
     "text": [
      "[[ 1.9220369  -0.9028905  -0.37554395]\n",
      " [-1.3767949  -0.607995    1.0616063 ]]\n",
      "[[-0.7868946  -0.7193138  -0.8043062 ]\n",
      " [ 0.40985426 -0.68113154  2.017941  ]]\n",
      "[[-0.2757578  -1.5673585  -0.11042685]\n",
      " [ 0.73011726 -0.83859825 -0.454174  ]]\n"
     ]
    }
   ],
   "source": [
    "x=tf.random_normal([2,3], seed=2018)\n",
    "with tf.Session() as sess:\n",
    "    print sess.run(x)\n",
    "    print sess.run(x)\n",
    "    print sess.run(x)"
   ]
  },
  {
   "cell_type": "code",
   "execution_count": 5,
   "metadata": {},
   "outputs": [
    {
     "name": "stdout",
     "output_type": "stream",
     "text": [
      "[[-0.33390483  0.41900244  0.2365525 ]\n",
      " [ 0.77084    -0.2895062  -0.5075657 ]]\n",
      "[[ 1.0842199   0.41060048 -0.56223303]\n",
      " [ 0.21299118 -0.12898405  0.28654882]]\n",
      "[[ 2.4757357  -0.28997052 -0.9092855 ]\n",
      " [ 0.21699283  0.39220488  1.2969818 ]]\n"
     ]
    }
   ],
   "source": [
    "x=tf.random_normal([2,3], seed=53)\n",
    "with tf.Session() as sess:\n",
    "    print sess.run(x)\n",
    "    print sess.run(x)\n",
    "    print sess.run(x)"
   ]
  }
 ],
 "metadata": {
  "kernelspec": {
   "display_name": "kernelForTF",
   "language": "python",
   "name": "kernelfortf"
  },
  "language_info": {
   "codemirror_mode": {
    "name": "ipython",
    "version": 2
   },
   "file_extension": ".py",
   "mimetype": "text/x-python",
   "name": "python",
   "nbconvert_exporter": "python",
   "pygments_lexer": "ipython2",
   "version": "2.7.12"
  }
 },
 "nbformat": 4,
 "nbformat_minor": 2
}
