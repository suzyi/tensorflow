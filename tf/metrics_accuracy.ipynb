{
 "cells": [
  {
   "cell_type": "code",
   "execution_count": 1,
   "metadata": {},
   "outputs": [],
   "source": [
    "import tensorflow as tf"
   ]
  },
  {
   "cell_type": "code",
   "execution_count": 2,
   "metadata": {},
   "outputs": [],
   "source": [
    "sess = tf.Session()"
   ]
  },
  {
   "cell_type": "code",
   "execution_count": 3,
   "metadata": {},
   "outputs": [
    {
     "name": "stdout",
     "output_type": "stream",
     "text": [
      "[ 0.1  0.5  0.4  0.7  1.9  4.5  9.6 10.2  6.4 12.1]\n",
      "[ 0.1  0.6  0.4  0.7  1.8  4.5  9.6 10.2  6.4 12.1]\n"
     ]
    }
   ],
   "source": [
    "x = tf.constant([0.1, 0.5, 0.4, 0.7, 1.9, 4.5, 9.6, 10.2, 6.4, 12.1])\n",
    "x_prediction = tf.constant([0.1, 0.6, 0.4, 0.7, 1.8, 4.5, 9.6, 10.2, 6.4, 12.1])\n",
    "# init=tf.global_variables_initializer()\n",
    "print sess.run(x)\n",
    "print sess.run(x_prediction)"
   ]
  },
  {
   "cell_type": "code",
   "execution_count": 4,
   "metadata": {},
   "outputs": [
    {
     "name": "stdout",
     "output_type": "stream",
     "text": [
      "[0.8, 0.8]\n",
      "0.8\n",
      "0.8\n"
     ]
    }
   ],
   "source": [
    "acc, acc_op = tf.metrics.accuracy(x,x_prediction)\n",
    "init_local=tf.local_variables_initializer()\n",
    "sess.run(init_local)\n",
    "print(sess.run([acc, acc_op]))\n",
    "print(sess.run(acc_op))\n",
    "print(sess.run(acc))"
   ]
  },
  {
   "cell_type": "code",
   "execution_count": null,
   "metadata": {},
   "outputs": [],
   "source": []
  }
 ],
 "metadata": {
  "anaconda-cloud": {},
  "kernelspec": {
   "display_name": "kernelForTF",
   "language": "python",
   "name": "kernelfortf"
  },
  "language_info": {
   "codemirror_mode": {
    "name": "ipython",
    "version": 2
   },
   "file_extension": ".py",
   "mimetype": "text/x-python",
   "name": "python",
   "nbconvert_exporter": "python",
   "pygments_lexer": "ipython2",
   "version": "2.7.12"
  }
 },
 "nbformat": 4,
 "nbformat_minor": 1
}
