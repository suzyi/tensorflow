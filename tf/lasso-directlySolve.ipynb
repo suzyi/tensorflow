{
 "cells": [
  {
   "cell_type": "markdown",
   "metadata": {},
   "source": [
    "Solving the problem\n",
    "\\begin{eqnarray}\n",
    "\\left[\\begin{matrix}\n",
    "3 & 0\\\\\n",
    "1 & 2\\\\\n",
    "0 & 0\n",
    "\\end{matrix}\\right]\n",
    "\\left[\\begin{matrix}\n",
    "w_1\\\\\n",
    "w_2\n",
    "\\end{matrix}\\right]=\n",
    "\\left[\\begin{matrix}\n",
    "0\\\\\n",
    "0\\\\\n",
    "1\n",
    "\\end{matrix}\\right],\n",
    "\\end{eqnarray}\n",
    "Obviously, this equation has no accurate solution. So try to solve it using lasso, using some descent method in tensorflow:\n",
    "$$\n",
    "\\mathop{\\text{min}}\\limits_{w}~\\|Aw-b\\|_2^2+\\lambda \\|w\\|_1^2\n",
    "$$\n",
    "with\n",
    "$$\n",
    "A=\n",
    "\\left[\\begin{matrix}\n",
    "3 & 0\\\\\n",
    "1 & 2\\\\\n",
    "0 & 0\n",
    "\\end{matrix}\\right],\n",
    "b=\n",
    "\\left[\\begin{matrix}\n",
    "0\\\\\n",
    "0\\\\\n",
    "1\n",
    "\\end{matrix}\\right],\n",
    "$$\n",
    "and with $\\lambda$ given (for example, $\\lambda=.0001$)."
   ]
  },
  {
   "cell_type": "code",
   "execution_count": 1,
   "metadata": {},
   "outputs": [],
   "source": [
    "import tensorflow as tf\n",
    "import numpy as np"
   ]
  },
  {
   "cell_type": "code",
   "execution_count": 2,
   "metadata": {},
   "outputs": [],
   "source": [
    "learning_rate=0.001\n",
    "training_epoch=1000\n",
    "display_step=100\n",
    "lam=0.0001"
   ]
  },
  {
   "cell_type": "code",
   "execution_count": 3,
   "metadata": {},
   "outputs": [],
   "source": [
    "A=np.array([[3.0, 0.0], [1.0, 2.0], [0.0, 0.0]], dtype=\"float32\")\n",
    "b=np.array([[0], [0], [1]], dtype=\"float32\")"
   ]
  },
  {
   "cell_type": "code",
   "execution_count": 4,
   "metadata": {},
   "outputs": [],
   "source": [
    "W=tf.Variable(np.random.randn(2), name=\"weight\", dtype=\"float32\")"
   ]
  },
  {
   "cell_type": "code",
   "execution_count": 5,
   "metadata": {},
   "outputs": [],
   "source": [
    "predict=tf.multiply(A, W)\n",
    "cost=tf.reduce_sum(tf.pow(predict-b, 2))+lam*tf.pow(tf.norm(W, 1), 2)"
   ]
  },
  {
   "cell_type": "code",
   "execution_count": 6,
   "metadata": {},
   "outputs": [],
   "source": [
    "optimizer=tf.train.GradientDescentOptimizer(learning_rate).minimize(cost)\n",
    "init=tf.global_variables_initializer()"
   ]
  },
  {
   "cell_type": "code",
   "execution_count": 8,
   "metadata": {},
   "outputs": [
    {
     "name": "stdout",
     "output_type": "stream",
     "text": [
      "epoch= 100 cost= 2.395504 weight= [-0.02567236  0.31180996]\n",
      "epoch= 200 cost= 2.078129 weight= [-0.00340295  0.13965224]\n",
      "epoch= 300 cost= 2.015651 weight= [-0.00045055  0.06254698]\n",
      "epoch= 400 cost= 2.003139 weight= [-5.9422484e-05  2.8013328e-02]\n",
      "epoch= 500 cost= 2.0006297 weight= [-7.7332297e-06  1.2546518e-02]\n",
      "epoch= 600 cost= 2.0001264 weight= [-9.5963287e-07  5.6192935e-03]\n",
      "epoch= 700 cost= 2.0000253 weight= [-9.7737853e-08  2.5167495e-03]\n",
      "epoch= 800 cost= 2.0000052 weight= [-1.9236630e-10  1.1271934e-03]\n",
      "epoch= 900 cost= 2.000001 weight= [-6.1551507e-11  5.0484366e-04]\n",
      "epoch= 1000 cost= 2.0000002 weight= [-2.4304465e-11  2.2610782e-04]\n"
     ]
    }
   ],
   "source": [
    "with tf.Session() as sess:\n",
    "    sess.run(init)\n",
    "    for epoch in range(training_epoch):\n",
    "        sess.run(optimizer)\n",
    "        if (epoch+1) % display_step == 0:\n",
    "            print 'epoch=',epoch+1, 'cost=', sess.run(cost), 'weight=', sess.run(W)"
   ]
  },
  {
   "cell_type": "code",
   "execution_count": 9,
   "metadata": {},
   "outputs": [
    {
     "name": "stdout",
     "output_type": "stream",
     "text": [
      "W_true= [[0.]\n",
      " [0.]]\n",
      "[[ 9.9999994e-01 -2.9802322e-08]\n",
      " [-5.9604645e-08  1.0000000e+00]]\n"
     ]
    }
   ],
   "source": [
    "print 'W_true=',np.dot(np.linalg.pinv(A), b)\n",
    "print np.dot(np.linalg.pinv(A), A)"
   ]
  }
 ],
 "metadata": {
  "anaconda-cloud": {},
  "kernelspec": {
   "display_name": "kernelForTF",
   "language": "python",
   "name": "kernelfortf"
  },
  "language_info": {
   "codemirror_mode": {
    "name": "ipython",
    "version": 2
   },
   "file_extension": ".py",
   "mimetype": "text/x-python",
   "name": "python",
   "nbconvert_exporter": "python",
   "pygments_lexer": "ipython2",
   "version": "2.7.12"
  }
 },
 "nbformat": 4,
 "nbformat_minor": 1
}
