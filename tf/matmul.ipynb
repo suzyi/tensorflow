{
 "cells": [
  {
   "cell_type": "code",
   "execution_count": 1,
   "metadata": {},
   "outputs": [],
   "source": [
    "'''\n",
    "This notebook contains examples on operations of\n",
    "  tf.constant(), tf.matmul(), tf.add()\n",
    "'''\n",
    "# written by gery\n",
    "# Mar 20, 2018\n",
    "import tensorflow as tf\n",
    "import numpy as np"
   ]
  },
  {
   "cell_type": "code",
   "execution_count": 2,
   "metadata": {},
   "outputs": [],
   "source": [
    "# create a 3-D tensor\n",
    "# a = tf.constant(np.arange(1, 2), shape=[2,1,3], dtype=np.float32)\n",
    "a = tf.constant([[[1.0, 1.0, 1.0]],[[0, 0, 1.0]]], dtype=np.float32)"
   ]
  },
  {
   "cell_type": "code",
   "execution_count": 3,
   "metadata": {},
   "outputs": [],
   "source": [
    "'''\n",
    "creat a 3-D tensor with 2 matrices with each has size of 3-by-4\n",
    "'''\n",
    "b = tf.constant(np.arange(1,25), shape=[2, 3, 4],  dtype=np.float32)"
   ]
  },
  {
   "cell_type": "code",
   "execution_count": 4,
   "metadata": {},
   "outputs": [
    {
     "name": "stdout",
     "output_type": "stream",
     "text": [
      "[[[1. 1. 1.]]\n",
      "\n",
      " [[0. 0. 1.]]]\n",
      "[[[ 1.  2.  3.  4.]\n",
      "  [ 5.  6.  7.  8.]\n",
      "  [ 9. 10. 11. 12.]]\n",
      "\n",
      " [[13. 14. 15. 16.]\n",
      "  [17. 18. 19. 20.]\n",
      "  [21. 22. 23. 24.]]]\n"
     ]
    }
   ],
   "source": [
    "with tf.Session() as sess:\n",
    "    sess.run(tf.global_variables_initializer())\n",
    "    print sess.run(a)\n",
    "    print sess.run(b)"
   ]
  },
  {
   "cell_type": "code",
   "execution_count": 5,
   "metadata": {},
   "outputs": [
    {
     "name": "stdout",
     "output_type": "stream",
     "text": [
      "[[[15. 18. 21. 24.]]\n",
      "\n",
      " [[21. 22. 23. 24.]]]\n"
     ]
    }
   ],
   "source": [
    "with tf.Session() as sess:\n",
    "    print sess.run(tf.matmul(a,b))"
   ]
  },
  {
   "cell_type": "code",
   "execution_count": 6,
   "metadata": {},
   "outputs": [
    {
     "name": "stdout",
     "output_type": "stream",
     "text": [
      "[[[1. 1. 1.]]\n",
      "\n",
      " [[0. 0. 1.]]]\n",
      "[[[1. 1. 1.]]\n",
      "\n",
      " [[2. 2. 2.]]]\n"
     ]
    }
   ],
   "source": [
    "c = tf.constant([[[1.0, 1.0, 1.0]],[[2, 2, 2]]], dtype=np.float32)\n",
    "with tf.Session() as sess:\n",
    "    print sess.run(a)\n",
    "    print sess.run(c)"
   ]
  },
  {
   "cell_type": "code",
   "execution_count": 7,
   "metadata": {},
   "outputs": [
    {
     "name": "stdout",
     "output_type": "stream",
     "text": [
      "[[[2. 2. 2.]]\n",
      "\n",
      " [[2. 2. 3.]]]\n"
     ]
    }
   ],
   "source": [
    "with tf.Session() as sess:\n",
    "    print sess.run(tf.add(a,c))"
   ]
  },
  {
   "cell_type": "code",
   "execution_count": null,
   "metadata": {},
   "outputs": [],
   "source": []
  }
 ],
 "metadata": {
  "kernelspec": {
   "display_name": "kernelForTF",
   "language": "python",
   "name": "kernelfortf"
  },
  "language_info": {
   "codemirror_mode": {
    "name": "ipython",
    "version": 2
   },
   "file_extension": ".py",
   "mimetype": "text/x-python",
   "name": "python",
   "nbconvert_exporter": "python",
   "pygments_lexer": "ipython2",
   "version": "2.7.12"
  }
 },
 "nbformat": 4,
 "nbformat_minor": 2
}
