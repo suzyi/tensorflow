{
 "cells": [
  {
   "cell_type": "code",
   "execution_count": 1,
   "metadata": {},
   "outputs": [],
   "source": [
    "import tensorflow as tf\n",
    "import numpy as np"
   ]
  },
  {
   "cell_type": "markdown",
   "metadata": {},
   "source": [
    "Solving the problem\n",
    "\\begin{eqnarray}\n",
    "\\left[\\begin{matrix}\n",
    "3 & 0\\\\\n",
    "1 & 2\\\\\n",
    "0 & 0\n",
    "\\end{matrix}\\right]\n",
    "\\left[\\begin{matrix}\n",
    "w_1\\\\\n",
    "w_2\n",
    "\\end{matrix}\\right]=\n",
    "\\left[\\begin{matrix}\n",
    "0\\\\\n",
    "0\\\\\n",
    "1\n",
    "\\end{matrix}\\right],\n",
    "\\end{eqnarray}\n",
    "Obviously, this equation has no accurate solution. So try to solve it using lasso, using some descent method in tensorflow:\n",
    "$$\n",
    "\\mathop{\\text{min}}\\limits_{w}~\\|Aw-b\\|_2^2+\\lambda \\|w\\|_1^2\n",
    "$$\n",
    "with\n",
    "$$\n",
    "A=\n",
    "\\left[\\begin{matrix}\n",
    "3 & 0\\\\\n",
    "1 & 2\\\\\n",
    "0 & 0\n",
    "\\end{matrix}\\right],\n",
    "b=\n",
    "\\left[\\begin{matrix}\n",
    "0\\\\\n",
    "0\\\\\n",
    "1\n",
    "\\end{matrix}\\right],\n",
    "$$\n",
    "and with $\\lambda$ given (for example, $\\lambda=.001$)."
   ]
  },
  {
   "cell_type": "code",
   "execution_count": 2,
   "metadata": {},
   "outputs": [],
   "source": [
    "learning_rate=0.01\n",
    "lam=0.001\n",
    "training_epoch=100\n",
    "display_step=20"
   ]
  },
  {
   "cell_type": "code",
   "execution_count": 3,
   "metadata": {},
   "outputs": [
    {
     "name": "stdout",
     "output_type": "stream",
     "text": [
      "3\n"
     ]
    }
   ],
   "source": [
    "train_features=np.asarray([[3.0, 0.0], [1.0, 2.0], [0.0, 0.0]])\n",
    "train_labels=np.asarray([[0], [0], [1]])\n",
    "n_samples=train_features.shape[0]\n",
    "print n_samples"
   ]
  },
  {
   "cell_type": "code",
   "execution_count": 4,
   "metadata": {},
   "outputs": [
    {
     "name": "stdout",
     "output_type": "stream",
     "text": [
      "(array([3., 0.]), array([0]))\n",
      "(array([1., 2.]), array([0]))\n",
      "(array([0., 0.]), array([1]))\n"
     ]
    }
   ],
   "source": [
    "# deletable\n",
    "print zip(train_features, train_labels)[0]\n",
    "print zip(train_features, train_labels)[1]\n",
    "print zip(train_features, train_labels)[2]"
   ]
  },
  {
   "cell_type": "code",
   "execution_count": 5,
   "metadata": {},
   "outputs": [
    {
     "name": "stdout",
     "output_type": "stream",
     "text": [
      "[3. 0.]\n",
      "[0]\n",
      "[[3. 0.]\n",
      " [1. 2.]\n",
      " [0. 0.]]\n"
     ]
    }
   ],
   "source": [
    "# deletable\n",
    "print zip(train_features, train_labels)[0][0]\n",
    "print zip(train_features, train_labels)[0][1]\n",
    "print train_features"
   ]
  },
  {
   "cell_type": "code",
   "execution_count": 6,
   "metadata": {},
   "outputs": [],
   "source": [
    "# A=tf.placeholder(\"float32\",[None, 2])\n",
    "# b=tf.placeholder(\"float32\",[None, 1])\n",
    "A=tf.placeholder(\"float32\")\n",
    "b=tf.placeholder(\"float32\")"
   ]
  },
  {
   "cell_type": "markdown",
   "metadata": {},
   "source": [
    "# least square solution"
   ]
  },
  {
   "cell_type": "code",
   "execution_count": 15,
   "metadata": {},
   "outputs": [
    {
     "name": "stdout",
     "output_type": "stream",
     "text": [
      "W_true= [[0.]\n",
      " [0.]]\n",
      "[[1.00000000e+00 1.11022302e-16]\n",
      " [1.11022302e-16 1.00000000e+00]]\n"
     ]
    }
   ],
   "source": [
    "print 'W_true=',np.dot(np.linalg.pinv(train_features), train_labels)\n",
    "print np.dot(np.linalg.pinv(train_features), train_features)"
   ]
  },
  {
   "cell_type": "markdown",
   "metadata": {},
   "source": [
    "# A big error caused by the following difference"
   ]
  },
  {
   "cell_type": "markdown",
   "metadata": {},
   "source": [
    "## right answer!"
   ]
  },
  {
   "cell_type": "code",
   "execution_count": 7,
   "metadata": {},
   "outputs": [
    {
     "name": "stdout",
     "output_type": "stream",
     "text": [
      "[-1.3357573 -0.2138889]\n"
     ]
    }
   ],
   "source": [
    "W=tf.Variable(np.random.randn(2), name=\"weight\", dtype=\"float32\")\n",
    "with tf.Session() as sess:\n",
    "    sess.run(tf.global_variables_initializer())\n",
    "    print sess.run(W)"
   ]
  },
  {
   "cell_type": "code",
   "execution_count": 8,
   "metadata": {},
   "outputs": [],
   "source": [
    "predict=tf.multiply(A, W)\n",
    "cost=tf.reduce_sum(tf.pow(predict-b, 2))+lam*tf.pow(tf.norm(W,1),2)\n",
    "optimizer=tf.train.GradientDescentOptimizer(learning_rate).minimize(cost)"
   ]
  },
  {
   "cell_type": "markdown",
   "metadata": {},
   "source": [
    "#### Method-1: Each training use a single example"
   ]
  },
  {
   "cell_type": "code",
   "execution_count": 9,
   "metadata": {},
   "outputs": [
    {
     "name": "stdout",
     "output_type": "stream",
     "text": [
      "epoch= 20 cost= 0.002651428 weight= [-0.01715202 -0.0437058 ]\n",
      "training examples is: (array([3., 0.]), array([0]))\n",
      "epoch= 20 cost= 0.0067525227 weight= [-0.01680776 -0.04020812]\n",
      "training examples is: (array([1., 2.]), array([0]))\n",
      "epoch= 20 cost= 2.0000033 weight= [-0.01680662 -0.04020698]\n",
      "training examples is: (array([0., 0.]), array([1]))\n",
      "epoch= 40 cost= 4.787501e-07 weight= [-0.00021275 -0.00823528]\n",
      "training examples is: (array([3., 0.]), array([0]))\n",
      "epoch= 40 cost= 0.00022970482 weight= [-0.00020833 -0.00757629]\n",
      "training examples is: (array([1., 2.]), array([0]))\n",
      "epoch= 40 cost= 2.0 weight= [-0.00020817 -0.00757614]\n",
      "training examples is: (array([0., 0.]), array([1]))\n",
      "epoch= 60 cost= 2.4532831e-09 weight= [-2.059159e-06 -1.552007e-03]\n",
      "training examples is: (array([3., 0.]), array([0]))\n",
      "epoch= 60 cost= 8.156675e-06 weight= [-1.9868944e-06 -1.4278154e-03]\n",
      "training examples is: (array([1., 2.]), array([0]))\n",
      "epoch= 60 cost= 2.0 weight= [-1.9582983e-06 -1.4277868e-03]\n",
      "training examples is: (array([0., 0.]), array([1]))\n",
      "epoch= 80 cost= 8.5553724e-11 weight= [ 3.6597105e-09 -2.9249181e-04]\n",
      "training examples is: (array([3., 0.]), array([0]))\n",
      "epoch= 80 cost= 2.8970288e-07 weight= [-2.2633941e-09 -2.6908662e-04]\n",
      "training examples is: (array([1., 2.]), array([0]))\n",
      "epoch= 80 cost= 2.0 weight= [ 3.1183838e-09 -2.6908124e-04]\n",
      "training examples is: (array([0., 0.]), array([1]))\n",
      "epoch= 100 cost= 3.0386334e-12 weight= [ 6.3439359e-10 -5.5123135e-05]\n",
      "training examples is: (array([3., 0.]), array([0]))\n",
      "epoch= 100 cost= 1.0289473e-08 weight= [-4.807696e-10 -5.071218e-05]\n",
      "training examples is: (array([1., 2.]), array([0]))\n",
      "epoch= 100 cost= 2.0 weight= [ 5.3348365e-10 -5.0711165e-05]\n",
      "training examples is: (array([0., 0.]), array([1]))\n"
     ]
    }
   ],
   "source": [
    "with tf.Session() as sess:\n",
    "    sess.run(tf.global_variables_initializer())\n",
    "    for epoch in range(training_epoch):\n",
    "        for (x, y) in zip(train_features, train_labels):\n",
    "            sess.run(optimizer, feed_dict = {A: x, b: y})\n",
    "            if (epoch+1) % display_step == 0:\n",
    "                print 'epoch=',epoch+1, 'cost=', sess.run(cost, feed_dict={A: x, b: y}), 'weight=',sess.run(W)\n",
    "                print 'training examples is:', (x, y)"
   ]
  },
  {
   "cell_type": "markdown",
   "metadata": {},
   "source": [
    "#### Method-2: Each training use `batch_size = 2` examples"
   ]
  },
  {
   "cell_type": "markdown",
   "metadata": {},
   "source": [
    "See `https://github.com/suzyi/tensorflow/blob/master/tf/lasso-datasetAPI.ipynb` for Method-2."
   ]
  },
  {
   "cell_type": "markdown",
   "metadata": {},
   "source": [
    "#### Method-3: Each training use the full dataset"
   ]
  },
  {
   "cell_type": "code",
   "execution_count": 10,
   "metadata": {},
   "outputs": [
    {
     "name": "stdout",
     "output_type": "stream",
     "text": [
      "epoch= 20 cost= 2.0088675 weight= [-0.01538623 -0.04030244]\n",
      "training examples is: (array([0., 0.]), array([1]))\n",
      "epoch= 40 cost= 2.0002315 weight= [-0.00017611 -0.00760104]\n",
      "training examples is: (array([0., 0.]), array([1]))\n",
      "epoch= 60 cost= 2.000008 weight= [-1.8050894e-06 -1.4336377e-03]\n",
      "training examples is: (array([0., 0.]), array([1]))\n",
      "epoch= 80 cost= 2.0000002 weight= [ 3.5589729e-09 -2.7040028e-04]\n",
      "training examples is: (array([0., 0.]), array([1]))\n",
      "epoch= 100 cost= 2.0 weight= [ 5.9782235e-10 -5.1000570e-05]\n",
      "training examples is: (array([0., 0.]), array([1]))\n"
     ]
    }
   ],
   "source": [
    "with tf.Session() as sess:\n",
    "    sess.run(tf.global_variables_initializer())\n",
    "    for epoch in range(training_epoch):\n",
    "        sess.run(optimizer, feed_dict = {A: train_features, b: train_labels})\n",
    "        if (epoch+1) % display_step == 0:\n",
    "            print 'epoch=',epoch+1, 'cost=', sess.run(cost, feed_dict={A: train_features, b: train_labels}), 'weight=',sess.run(W)\n",
    "            print 'training examples is:', (x, y)"
   ]
  },
  {
   "cell_type": "markdown",
   "metadata": {},
   "source": [
    "## wrong answer!\n",
    "- caused by the dimension `(2, 1)` in `W=tf.Variable(np.random.randn(2, 1), name=\"weight\", dtype=\"float32\")`"
   ]
  },
  {
   "cell_type": "code",
   "execution_count": 11,
   "metadata": {},
   "outputs": [
    {
     "name": "stdout",
     "output_type": "stream",
     "text": [
      "[[-2.0533164]\n",
      " [ 0.1464007]]\n"
     ]
    }
   ],
   "source": [
    "W=tf.Variable(np.random.randn(2, 1), name=\"weight\", dtype=\"float32\")\n",
    "with tf.Session() as sess:\n",
    "    sess.run(tf.global_variables_initializer())\n",
    "    print sess.run(W)"
   ]
  },
  {
   "cell_type": "code",
   "execution_count": 12,
   "metadata": {},
   "outputs": [],
   "source": [
    "predict=tf.multiply(A, W)\n",
    "cost=tf.reduce_sum(tf.pow(predict-b, 2))+lam*tf.pow(tf.norm(W,1),2)\n",
    "optimizer=tf.train.GradientDescentOptimizer(learning_rate).minimize(cost)"
   ]
  },
  {
   "cell_type": "code",
   "execution_count": 13,
   "metadata": {},
   "outputs": [
    {
     "name": "stdout",
     "output_type": "stream",
     "text": [
      "epoch= 20 cost= 0.00024768684 weight= [[-0.00523288]\n",
      " [ 0.00036639]]\n",
      "training examples is: (array([3., 0.]), array([0]))\n",
      "epoch= 20 cost= 0.00011146473 weight= [[-0.00470948]\n",
      " [ 0.00032964]]\n",
      "training examples is: (array([1., 2.]), array([0]))\n",
      "epoch= 20 cost= 4.0 weight= [[-0.00470938]\n",
      " [ 0.00032953]]\n",
      "training examples is: (array([0., 0.]), array([1]))\n",
      "epoch= 40 cost= 1.3026883e-09 weight= [[-1.2001884e-05]\n",
      " [ 8.2441130e-07]]\n",
      "training examples is: (array([3., 0.]), array([0]))\n",
      "epoch= 40 cost= 5.862394e-10 weight= [[-1.0801439e-05]\n",
      " [ 7.4171368e-07]]\n",
      "training examples is: (array([1., 2.]), array([0]))\n",
      "epoch= 40 cost= 4.0 weight= [[-1.0801208e-05]\n",
      " [ 7.4148284e-07]]\n",
      "training examples is: (array([0., 0.]), array([1]))\n",
      "epoch= 60 cost= 6.8514344e-15 weight= [[-2.7527006e-08]\n",
      " [ 1.8543296e-09]]\n",
      "training examples is: (array([3., 0.]), array([0]))\n",
      "epoch= 60 cost= 3.0833014e-15 weight= [[-2.4773719e-08]\n",
      " [ 1.6683090e-09]]\n",
      "training examples is: (array([1., 2.]), array([0]))\n",
      "epoch= 60 cost= 4.0 weight= [[-2.4773190e-08]\n",
      " [ 1.6677802e-09]]\n",
      "training examples is: (array([0., 0.]), array([1]))\n",
      "epoch= 80 cost= 3.603507e-20 weight= [[-6.313486e-11]\n",
      " [ 4.169277e-12]]\n",
      "training examples is: (array([3., 0.]), array([0]))\n",
      "epoch= 80 cost= 1.6216595e-20 weight= [[-5.6820024e-11]\n",
      " [ 3.7510030e-12]]\n",
      "training examples is: (array([1., 2.]), array([0]))\n",
      "epoch= 80 cost= 4.0 weight= [[-5.6818814e-11]\n",
      " [ 3.7497917e-12]]\n",
      "training examples is: (array([0., 0.]), array([1]))\n",
      "epoch= 100 cost= 1.895274e-25 weight= [[-1.4480385e-13]\n",
      " [ 9.3704104e-15]]\n",
      "training examples is: (array([3., 0.]), array([0]))\n",
      "epoch= 100 cost= 8.529161e-26 weight= [[-1.3032038e-13]\n",
      " [ 8.4302860e-15]]\n",
      "training examples is: (array([1., 2.]), array([0]))\n",
      "epoch= 100 cost= 4.0 weight= [[-1.303176e-13]\n",
      " [ 8.427511e-15]]\n",
      "training examples is: (array([0., 0.]), array([1]))\n"
     ]
    }
   ],
   "source": [
    "with tf.Session() as sess:\n",
    "    sess.run(tf.global_variables_initializer())\n",
    "    for epoch in range(training_epoch):\n",
    "        for (x, y) in zip(train_features, train_labels):\n",
    "            sess.run(optimizer, feed_dict = {A: x, b: y})\n",
    "            if (epoch+1) % display_step == 0:\n",
    "                print 'epoch=',epoch+1, 'cost=', sess.run(cost, feed_dict={A: x, b: y}), 'weight=',sess.run(W)\n",
    "                print 'training examples is:', (x, y)"
   ]
  }
 ],
 "metadata": {
  "anaconda-cloud": {},
  "kernelspec": {
   "display_name": "kernelForTF",
   "language": "python",
   "name": "kernelfortf"
  },
  "language_info": {
   "codemirror_mode": {
    "name": "ipython",
    "version": 2
   },
   "file_extension": ".py",
   "mimetype": "text/x-python",
   "name": "python",
   "nbconvert_exporter": "python",
   "pygments_lexer": "ipython2",
   "version": "2.7.12"
  }
 },
 "nbformat": 4,
 "nbformat_minor": 1
}
