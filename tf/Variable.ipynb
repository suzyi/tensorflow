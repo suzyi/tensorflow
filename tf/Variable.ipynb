{
 "cells": [
  {
   "cell_type": "code",
   "execution_count": 1,
   "metadata": {},
   "outputs": [],
   "source": [
    "# written by gery\n",
    "# Mar 20, 2018\n",
    "import tensorflow as tf"
   ]
  },
  {
   "cell_type": "code",
   "execution_count": 2,
   "metadata": {},
   "outputs": [],
   "source": [
    "# x = tf.Variable(3,'x')\n",
    "# '''\n",
    "# x = tf.Variable(3)\n",
    "# init=tf.global_variables_initializer()\n",
    "# with tf.Session() as sess:\n",
    "#     sess.run(init)\n",
    "#     print sess.run(x)\n",
    "# '''"
   ]
  },
  {
   "cell_type": "code",
   "execution_count": 3,
   "metadata": {},
   "outputs": [],
   "source": [
    "#create  a variable with a random value.  \n",
    "x=tf.Variable(tf.random_normal([1],seed=2018))\n",
    "# Create another variable with the same value as 'x'.\n",
    "y=tf.Variable(x.initialized_value())\n",
    "z=tf.Variable(x.initialized_value()*2)"
   ]
  },
  {
   "cell_type": "code",
   "execution_count": 4,
   "metadata": {},
   "outputs": [
    {
     "name": "stdout",
     "output_type": "stream",
     "text": [
      "[1.9220369]\n",
      "[1.9220369]\n",
      "[3.8440738]\n"
     ]
    }
   ],
   "source": [
    "with tf.Session() as sess:\n",
    "    sess.run(tf.global_variables_initializer())\n",
    "    x_val, y_val, z_val = sess.run([x, y, z])\n",
    "    print x_val\n",
    "    print y_val\n",
    "    print z_val"
   ]
  },
  {
   "cell_type": "code",
   "execution_count": 5,
   "metadata": {},
   "outputs": [],
   "source": [
    "#create  a variable with a random value.  \n",
    "x=tf.Variable(3)\n",
    "# Create another variable with the same value as 'x'.\n",
    "y=tf.Variable(x.initialized_value())\n",
    "#Create another variable with twice the value of 'weights'\n",
    "z=tf.Variable(x.initialized_value()*2)\n",
    "init=tf.global_variables_initializer()"
   ]
  },
  {
   "cell_type": "code",
   "execution_count": 6,
   "metadata": {},
   "outputs": [
    {
     "name": "stdout",
     "output_type": "stream",
     "text": [
      "3\n",
      "3\n",
      "6\n"
     ]
    }
   ],
   "source": [
    "with tf.Session() as sess:  \n",
    "    sess.run(init)\n",
    "    x_val, y_val, z_val = sess.run([x, y, z])\n",
    "    print x_val\n",
    "    print y_val\n",
    "    print z_val"
   ]
  },
  {
   "cell_type": "code",
   "execution_count": null,
   "metadata": {},
   "outputs": [],
   "source": []
  }
 ],
 "metadata": {
  "kernelspec": {
   "display_name": "kernelForTF",
   "language": "python",
   "name": "kernelfortf"
  },
  "language_info": {
   "codemirror_mode": {
    "name": "ipython",
    "version": 2
   },
   "file_extension": ".py",
   "mimetype": "text/x-python",
   "name": "python",
   "nbconvert_exporter": "python",
   "pygments_lexer": "ipython2",
   "version": "2.7.12"
  }
 },
 "nbformat": 4,
 "nbformat_minor": 2
}
