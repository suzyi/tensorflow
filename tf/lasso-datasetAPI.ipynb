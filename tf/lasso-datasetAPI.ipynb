{
 "cells": [
  {
   "cell_type": "markdown",
   "metadata": {},
   "source": [
    "# This file solve lasso using the `GradientDescentOptimizer` allocated with dataset API such as\n",
    "`tf.data.Dataset.from_tensor_slices()`, `batch` and `batch_size`"
   ]
  },
  {
   "cell_type": "markdown",
   "metadata": {},
   "source": [
    "Solving the problem\n",
    "\\begin{eqnarray}\n",
    "\\left[\\begin{matrix}\n",
    "3 & 0\\\\\n",
    "1 & 2\\\\\n",
    "0 & 0\n",
    "\\end{matrix}\\right]\n",
    "\\left[\\begin{matrix}\n",
    "w_1\\\\\n",
    "w_2\n",
    "\\end{matrix}\\right]=\n",
    "\\left[\\begin{matrix}\n",
    "0\\\\\n",
    "0\\\\\n",
    "1\n",
    "\\end{matrix}\\right],\n",
    "\\end{eqnarray}\n",
    "Obviously, this equation has no accurate solution. So try to solve it using lasso, using some descent method in tensorflow:\n",
    "$$\n",
    "\\mathop{\\text{min}}\\limits_{w}~\\|Aw-b\\|_2^2+\\lambda \\|w\\|_1^2\n",
    "$$\n",
    "with\n",
    "$$\n",
    "A=\n",
    "\\left[\\begin{matrix}\n",
    "3 & 0\\\\\n",
    "1 & 2\\\\\n",
    "0 & 0\n",
    "\\end{matrix}\\right],\n",
    "b=\n",
    "\\left[\\begin{matrix}\n",
    "0\\\\\n",
    "0\\\\\n",
    "1\n",
    "\\end{matrix}\\right],\n",
    "$$\n",
    "and with $\\lambda$ given (for example, $\\lambda=.001$)."
   ]
  },
  {
   "cell_type": "code",
   "execution_count": 1,
   "metadata": {},
   "outputs": [],
   "source": [
    "import tensorflow as tf\n",
    "import numpy as np"
   ]
  },
  {
   "cell_type": "code",
   "execution_count": 2,
   "metadata": {},
   "outputs": [],
   "source": [
    "learning_rate=0.01\n",
    "training_epoch=100\n",
    "display_step=20\n",
    "batch_size=2"
   ]
  },
  {
   "cell_type": "code",
   "execution_count": 3,
   "metadata": {},
   "outputs": [],
   "source": [
    "train_features=np.array([[3.0, 0.0], [1.0, 2.0], [0.0, 0.0]], dtype=\"float32\")\n",
    "train_labels=np.array([[0], [0], [1]], dtype=\"float32\")"
   ]
  },
  {
   "cell_type": "code",
   "execution_count": 4,
   "metadata": {},
   "outputs": [],
   "source": [
    "dataset = tf.data.Dataset.from_tensor_slices((train_features, train_labels))\n",
    "dataset = dataset.batch(batch_size)\n",
    "iterator = dataset.make_initializable_iterator()\n",
    "batch_data = iterator.get_next()"
   ]
  },
  {
   "cell_type": "code",
   "execution_count": 5,
   "metadata": {},
   "outputs": [],
   "source": [
    "A=tf.placeholder(\"float32\",[None, 2])\n",
    "b=tf.placeholder(\"float32\",[None, 1])\n",
    "W=tf.Variable(np.random.randn(2), name=\"weight\", dtype=\"float32\")"
   ]
  },
  {
   "cell_type": "code",
   "execution_count": 6,
   "metadata": {},
   "outputs": [],
   "source": [
    "predict=tf.multiply(A, W)\n",
    "cost=tf.reduce_sum(tf.pow(predict-b, 2))"
   ]
  },
  {
   "cell_type": "code",
   "execution_count": 7,
   "metadata": {},
   "outputs": [],
   "source": [
    "optimizer=tf.train.GradientDescentOptimizer(learning_rate).minimize(cost)"
   ]
  },
  {
   "cell_type": "code",
   "execution_count": 8,
   "metadata": {},
   "outputs": [
    {
     "name": "stdout",
     "output_type": "stream",
     "text": [
      "epoch= 20 cost= 0.382492 weight= [0.00422857 0.3091574 ]\n",
      "training examples is: (array([[3., 0.],\n",
      "       [1., 2.]], dtype=float32), array([[0.],\n",
      "       [0.]], dtype=float32))\n",
      "epoch= 20 cost= 2.0 weight= [0.00422857 0.3091574 ]\n",
      "training examples is: (array([[0., 0.]], dtype=float32), array([[1.]], dtype=float32))\n",
      "epoch= 40 cost= 0.013612358 weight= [4.8752128e-05 5.8335952e-02]\n",
      "training examples is: (array([[3., 0.],\n",
      "       [1., 2.]], dtype=float32), array([[0.],\n",
      "       [0.]], dtype=float32))\n",
      "epoch= 40 cost= 2.0 weight= [4.8752128e-05 5.8335952e-02]\n",
      "training examples is: (array([[0., 0.]], dtype=float32), array([[1.]], dtype=float32))\n",
      "epoch= 60 cost= 0.00048466946 weight= [5.6207386e-07 1.1007605e-02]\n",
      "training examples is: (array([[3., 0.],\n",
      "       [1., 2.]], dtype=float32), array([[0.],\n",
      "       [0.]], dtype=float32))\n",
      "epoch= 60 cost= 2.0 weight= [5.6207386e-07 1.1007605e-02]\n",
      "training examples is: (array([[0., 0.]], dtype=float32), array([[1.]], dtype=float32))\n",
      "epoch= 80 cost= 1.7256747e-05 weight= [6.4802732e-09 2.0770621e-03]\n",
      "training examples is: (array([[3., 0.],\n",
      "       [1., 2.]], dtype=float32), array([[0.],\n",
      "       [0.]], dtype=float32))\n",
      "epoch= 80 cost= 2.0 weight= [6.4802732e-09 2.0770621e-03]\n",
      "training examples is: (array([[0., 0.]], dtype=float32), array([[1.]], dtype=float32))\n",
      "epoch= 100 cost= 6.1442955e-07 weight= [7.4712486e-11 3.9192778e-04]\n",
      "training examples is: (array([[3., 0.],\n",
      "       [1., 2.]], dtype=float32), array([[0.],\n",
      "       [0.]], dtype=float32))\n",
      "epoch= 100 cost= 2.0 weight= [7.4712486e-11 3.9192778e-04]\n",
      "training examples is: (array([[0., 0.]], dtype=float32), array([[1.]], dtype=float32))\n"
     ]
    }
   ],
   "source": [
    "with tf.Session() as sess:\n",
    "    sess.run(tf.global_variables_initializer())  # refresh for global variables\n",
    "    for epoch in range(training_epoch):\n",
    "        sess.run(iterator.initializer) # refresh for dataset reuse\n",
    "        for k in range(4-batch_size):  # since tatal number of trainable examples is 3\n",
    "            temp=sess.run(batch_data)\n",
    "            sess.run(optimizer, feed_dict = {A: temp[0], b: temp[1]})\n",
    "            if (epoch+1) % display_step == 0:\n",
    "                print 'epoch=',epoch+1, 'cost=', sess.run(cost, feed_dict={A: temp[0], b: temp[1]}), 'weight=',sess.run(W)\n",
    "                print 'training examples is:', (temp[0], temp[1])"
   ]
  },
  {
   "cell_type": "code",
   "execution_count": 9,
   "metadata": {},
   "outputs": [
    {
     "name": "stdout",
     "output_type": "stream",
     "text": [
      "[[0.]\n",
      " [0.]]\n",
      "[[ 9.9999994e-01 -2.9802322e-08]\n",
      " [-5.9604645e-08  1.0000000e+00]]\n"
     ]
    }
   ],
   "source": [
    "print np.dot(np.linalg.pinv(train_features), train_labels)\n",
    "print np.dot(np.linalg.pinv(train_features), train_features)"
   ]
  }
 ],
 "metadata": {
  "anaconda-cloud": {},
  "kernelspec": {
   "display_name": "kernelForTF",
   "language": "python",
   "name": "kernelfortf"
  },
  "language_info": {
   "codemirror_mode": {
    "name": "ipython",
    "version": 2
   },
   "file_extension": ".py",
   "mimetype": "text/x-python",
   "name": "python",
   "nbconvert_exporter": "python",
   "pygments_lexer": "ipython2",
   "version": "2.7.12"
  }
 },
 "nbformat": 4,
 "nbformat_minor": 1
}
