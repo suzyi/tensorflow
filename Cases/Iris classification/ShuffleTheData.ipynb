{
 "cells": [
  {
   "cell_type": "markdown",
   "metadata": {},
   "source": [
    "# Shuffle the original Iris dataset\n",
    "gery, July 1, 2018."
   ]
  },
  {
   "cell_type": "code",
   "execution_count": 1,
   "metadata": {},
   "outputs": [],
   "source": [
    "import tensorflow as tf\n",
    "import scipy.io as sio\n",
    "import numpy as np\n",
    "import random"
   ]
  },
  {
   "cell_type": "code",
   "execution_count": 2,
   "metadata": {},
   "outputs": [],
   "source": [
    "dataIris = sio.loadmat('./dataIris.mat')"
   ]
  },
  {
   "cell_type": "code",
   "execution_count": 3,
   "metadata": {},
   "outputs": [],
   "source": [
    "data = dataIris['data']\n",
    "num_train = 30   # number of training examples from a single kind of flower\n",
    "# randomly pick training examples and test examples from whole dataset\n",
    "trainingData = data[0, :]\n",
    "testData = data[0, :]\n",
    "for j in range(3):\n",
    "    index = range(j*50, (j+1)*50)\n",
    "    random.shuffle(index)\n",
    "    trainingData = np.vstack((trainingData, data[index[0:num_train], :]))\n",
    "    testData = np.vstack((testData, data[index[num_train:], :]))\n",
    "trainingData = trainingData[1:, :]\n",
    "testData = testData[1:, :]\n",
    "# reshuffle among training examples\n",
    "index = range(3*num_train)\n",
    "random.shuffle(index)\n",
    "trainingData = trainingData[index, :]"
   ]
  },
  {
   "cell_type": "code",
   "execution_count": 4,
   "metadata": {},
   "outputs": [],
   "source": [
    "sio.savemat('shuffledIrisData', {'trainingData': trainingData, 'testData': testData})"
   ]
  },
  {
   "cell_type": "code",
   "execution_count": 5,
   "metadata": {},
   "outputs": [],
   "source": [
    "temp = sio.loadmat('./shuffledIrisData.mat')"
   ]
  },
  {
   "cell_type": "code",
   "execution_count": 6,
   "metadata": {},
   "outputs": [
    {
     "name": "stdout",
     "output_type": "stream",
     "text": [
      "[[5.9 3.2 4.8 1.8 2. ]\n",
      " [7.2 3.6 6.1 2.5 3. ]\n",
      " [5.1 3.8 1.6 0.2 1. ]\n",
      " [5.2 3.5 1.5 0.2 1. ]\n",
      " [4.4 2.9 1.4 0.2 1. ]]\n",
      "(90, 5)\n",
      "[[4.6 3.2 1.4 0.2 1. ]\n",
      " [5.  3.2 1.2 0.2 1. ]\n",
      " [4.9 3.  1.4 0.2 1. ]\n",
      " [5.4 3.9 1.3 0.4 1. ]\n",
      " [4.9 3.1 1.5 0.1 1. ]]\n",
      "(60, 5)\n"
     ]
    }
   ],
   "source": [
    "# training data\n",
    "print temp['trainingData'][0:5,:]\n",
    "print np.shape(temp['trainingData'])\n",
    "# test data\n",
    "print temp['testData'][0:5,:]\n",
    "print np.shape(temp['testData'])"
   ]
  }
 ],
 "metadata": {
  "kernelspec": {
   "display_name": "kernelForTF",
   "language": "python",
   "name": "kernelfortf"
  },
  "language_info": {
   "codemirror_mode": {
    "name": "ipython",
    "version": 2
   },
   "file_extension": ".py",
   "mimetype": "text/x-python",
   "name": "python",
   "nbconvert_exporter": "python",
   "pygments_lexer": "ipython2",
   "version": "2.7.12"
  }
 },
 "nbformat": 4,
 "nbformat_minor": 1
}
